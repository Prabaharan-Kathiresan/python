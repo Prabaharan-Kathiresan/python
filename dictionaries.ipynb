{
 "cells": [
  {
   "cell_type": "markdown",
   "id": "b91fd75e-19c8-4e54-96a0-0862853bfc57",
   "metadata": {},
   "source": [
    "### Dictionaries"
   ]
  },
  {
   "cell_type": "code",
   "execution_count": 23,
   "id": "7a19fc07-a429-453d-b434-7d282b6c9c31",
   "metadata": {},
   "outputs": [
    {
     "name": "stdout",
     "output_type": "stream",
     "text": [
      "John\n",
      "2.99\n"
     ]
    }
   ],
   "source": [
    "names = {\"1000\": \"John\",\"2000\": \"Praba\",\"3000\": \"Karthik\"}\n",
    "print(names[\"1000\"])\n",
    "fruits = { \"apple\": 2.99, \"orange\": \"3\",\"milk\": 5}\n",
    "print(fruits[\"apple\"])\n"
   ]
  },
  {
   "cell_type": "code",
   "execution_count": 41,
   "id": "10cdf80b-a06b-487c-b07a-ad077c6ed561",
   "metadata": {},
   "outputs": [
    {
     "name": "stdout",
     "output_type": "stream",
     "text": [
      "['ravi', 'raja']\n",
      "raja\n",
      "{'k1': 'value1', 'k2': 'value2'}\n",
      "value1\n",
      "RAJA\n",
      "{'1000': 'John', '2000': ['ravi', 'raja'], '3000': {'k1': 'value1', 'k2': 'value2'}}\n"
     ]
    }
   ],
   "source": [
    "employee = { \"1000\": \"John\", \"2000\": [\"ravi\",\"raja\"], \"3000\": {\"k1\": \"value1\", \"k2\": \"value2\"} }\n",
    "print(employee[\"2000\"])\n",
    "print(employee[\"2000\"][1]) #employee[key][indexing]\n",
    "print(employee[\"3000\"])\n",
    "print(employee[\"3000\"][\"k1\"]) #employee[key][key]\n",
    "print(employee[\"2000\"][1].upper())\n",
    "print(employee)"
   ]
  },
  {
   "cell_type": "code",
   "execution_count": 47,
   "id": "ae4f2db3-f83d-4927-b1a8-66bcc4a93cca",
   "metadata": {},
   "outputs": [
    {
     "name": "stdout",
     "output_type": "stream",
     "text": [
      "{'1000': 'JOHN', '2000': ['ravi', 'raja'], '3000': {'k1': 'value1', 'k2': 'value2'}, '4000': 'Hello'}\n",
      "{'1000': 'JOHN', '2000': ['ravi', 'raja'], '3000': {'k1': 'value1', 'k2': 'value2'}, '4000': 'Hello'}\n"
     ]
    }
   ],
   "source": [
    "employee[\"4000\"] =  \"Hello\"\n",
    "print(employee)\n",
    "employee[\"1000\"] = \"JOHN\"\n",
    "print(employee)"
   ]
  },
  {
   "cell_type": "code",
   "execution_count": 53,
   "id": "6d043f12-bc33-4016-8f16-95b81e1f8ff7",
   "metadata": {},
   "outputs": [
    {
     "name": "stdout",
     "output_type": "stream",
     "text": [
      "dict_keys(['1000', '2000', '3000', '4000'])\n",
      "dict_values(['JOHN', ['ravi', 'raja'], {'k1': 'value1', 'k2': 'value2'}, 'Hello'])\n",
      "dict_items([('1000', 'JOHN'), ('2000', ['ravi', 'raja']), ('3000', {'k1': 'value1', 'k2': 'value2'}), ('4000', 'Hello')])\n"
     ]
    }
   ],
   "source": [
    "print(employee.keys())\n",
    "print(employee.values())\n",
    "print(employee.items())"
   ]
  },
  {
   "cell_type": "code",
   "execution_count": null,
   "id": "742098e2-f859-42e3-9544-7740416dd33a",
   "metadata": {},
   "outputs": [],
   "source": []
  }
 ],
 "metadata": {
  "kernelspec": {
   "display_name": "Python [conda env:base] *",
   "language": "python",
   "name": "conda-base-py"
  },
  "language_info": {
   "codemirror_mode": {
    "name": "ipython",
    "version": 3
   },
   "file_extension": ".py",
   "mimetype": "text/x-python",
   "name": "python",
   "nbconvert_exporter": "python",
   "pygments_lexer": "ipython3",
   "version": "3.12.7"
  }
 },
 "nbformat": 4,
 "nbformat_minor": 5
}
