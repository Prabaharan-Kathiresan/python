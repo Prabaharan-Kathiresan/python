{
 "cells": [
  {
   "cell_type": "markdown",
   "id": "35bd18cb-571b-4a7d-a6a3-f3660b2f0372",
   "metadata": {},
   "source": [
    "### if..else and elif"
   ]
  },
  {
   "cell_type": "code",
   "execution_count": 6,
   "id": "664c4e10-d3a8-4fea-a8c6-750d29646401",
   "metadata": {},
   "outputs": [
    {
     "name": "stdout",
     "output_type": "stream",
     "text": [
      "Hi Prabaharan\n"
     ]
    }
   ],
   "source": [
    "name = 'Prabaharan'\n",
    "if name == 'Prabaharan': \n",
    "    print(\"Hi Prabaharan\")\n",
    "elif name == \"Harry\":\n",
    "    print(\"Hi Harry\")\n",
    "else:\n",
    "    print(\"I dont know this guy \"+name)"
   ]
  },
  {
   "cell_type": "markdown",
   "id": "cb639460-96cb-4793-a641-610fd5ade8c3",
   "metadata": {},
   "source": [
    "### for loops\n"
   ]
  },
  {
   "cell_type": "code",
   "execution_count": 13,
   "id": "eac469cf-0f59-48a7-ac5e-73ca4a350c0a",
   "metadata": {},
   "outputs": [
    {
     "name": "stdout",
     "output_type": "stream",
     "text": [
      "1\n",
      "2\n",
      "3\n",
      "4\n",
      "5\n",
      "6\n",
      "7\n",
      "P\n",
      "r\n",
      "a\n",
      "b\n",
      "a\n",
      "h\n",
      "a\n",
      "r\n",
      "a\n",
      "n\n"
     ]
    }
   ],
   "source": [
    "mylist = [1,2,3,4,5,6,7]\n",
    "for item in mylist:\n",
    "    print(item)\n",
    "\n",
    "mystring = \"Prabaharan\"\n",
    "for letter in mystring:\n",
    "    print(letter)"
   ]
  },
  {
   "cell_type": "code",
   "execution_count": 27,
   "id": "3eb1ff0a-1d92-4c55-a030-90742ae6f489",
   "metadata": {},
   "outputs": [
    {
     "name": "stdout",
     "output_type": "stream",
     "text": [
      "(1, 2)\n",
      "(2, 3)\n",
      "(4, 5)\n",
      "3\n",
      "5\n",
      "9\n",
      "2\n",
      "3\n",
      "5\n"
     ]
    }
   ],
   "source": [
    "mytuple = [(1,2),(2,3),(4,5)]\n",
    "for item in mytuple:\n",
    "    print(item)\n",
    "\n",
    "for (a,b) in mytuple:\n",
    "    print(a+b)\n",
    "\n",
    "for (a,b) in mytuple:\n",
    "    print(b)"
   ]
  },
  {
   "cell_type": "code",
   "execution_count": 29,
   "id": "2a0589e4-6b69-4ab0-adec-2462603aedb7",
   "metadata": {},
   "outputs": [
    {
     "name": "stdout",
     "output_type": "stream",
     "text": [
      "k1\n",
      "k2\n",
      "k 1\n",
      "k 2\n"
     ]
    }
   ],
   "source": [
    "d = {\"k1\": 1,\"k2\": 2}\n",
    "for item in d:\n",
    "    print(item)\n",
    "\n",
    "for key,value in d:\n",
    "    print(key+\" \"+ value)"
   ]
  },
  {
   "cell_type": "markdown",
   "id": "a7daba25-d85b-4efb-9113-8dd00cef3b07",
   "metadata": {},
   "source": [
    "### while"
   ]
  },
  {
   "cell_type": "code",
   "execution_count": 34,
   "id": "0ada2498-c19d-49d0-a3fe-bc8ac10050ed",
   "metadata": {},
   "outputs": [
    {
     "name": "stdout",
     "output_type": "stream",
     "text": [
      "current value of f is 0\n",
      "current value of f is 1\n",
      "current value of f is 2\n",
      "current value of f is 3\n",
      "current value of f is 4\n",
      "while loop is exit\n"
     ]
    }
   ],
   "source": [
    "x = 0\n",
    "while( x < 5):\n",
    "    print(f'current value of f is {x}')\n",
    "    x +=1\n",
    "else:\n",
    "    print(\"while loop is exit\")"
   ]
  },
  {
   "cell_type": "code",
   "execution_count": null,
   "id": "c00a602c-abf5-4b8b-82af-b0d72a65f837",
   "metadata": {},
   "outputs": [],
   "source": []
  }
 ],
 "metadata": {
  "kernelspec": {
   "display_name": "Python [conda env:base] *",
   "language": "python",
   "name": "conda-base-py"
  },
  "language_info": {
   "codemirror_mode": {
    "name": "ipython",
    "version": 3
   },
   "file_extension": ".py",
   "mimetype": "text/x-python",
   "name": "python",
   "nbconvert_exporter": "python",
   "pygments_lexer": "ipython3",
   "version": "3.12.7"
  }
 },
 "nbformat": 4,
 "nbformat_minor": 5
}
