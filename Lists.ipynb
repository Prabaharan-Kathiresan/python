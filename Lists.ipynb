{
 "cells": [
  {
   "cell_type": "markdown",
   "id": "21771930-ca2d-4d39-8c78-b752946b4697",
   "metadata": {},
   "source": [
    "### Lists"
   ]
  },
  {
   "cell_type": "code",
   "execution_count": 3,
   "id": "f8e1cd63-7268-4799-939a-2742b3326762",
   "metadata": {},
   "outputs": [],
   "source": [
    "numList = [1,3,5,2,6]\n",
    "strlist = ['john','jacob']\n",
    "mixedlist = [1,'john','23.5']"
   ]
  },
  {
   "cell_type": "code",
   "execution_count": 5,
   "id": "a907eab5-b5dc-499b-97a4-7993e9d21c8c",
   "metadata": {},
   "outputs": [
    {
     "name": "stdout",
     "output_type": "stream",
     "text": [
      "5\n",
      "1\n",
      "[3, 5, 2, 6]\n",
      "[3, 2]\n",
      "[1, 3, 5]\n",
      "6\n"
     ]
    }
   ],
   "source": [
    "print(len(numList))\n",
    "print(numList[0]) #indexing\n",
    "print(numList[1:])\n",
    "print(numList[1:4:2]) #slicing\n",
    "print(numList[:3])\n",
    "print(numList[-1]) #reverse indexing"
   ]
  },
  {
   "cell_type": "code",
   "execution_count": 7,
   "id": "43d05585-a238-4ec0-aa75-618d42e6be40",
   "metadata": {},
   "outputs": [
    {
     "name": "stdout",
     "output_type": "stream",
     "text": [
      "[1, 3, 5, 2, 6, 'john', 'jacob']\n"
     ]
    }
   ],
   "source": [
    "print( numList+strlist)"
   ]
  },
  {
   "cell_type": "code",
   "execution_count": 9,
   "id": "93b3583c-8019-4858-a30b-a688a95b9faf",
   "metadata": {},
   "outputs": [
    {
     "name": "stdout",
     "output_type": "stream",
     "text": [
      "[1, 3, 5, 2, 6]\n",
      "['ONE', 3, 5, 2, 6]\n",
      "['ONE', 3, 5, 2, 6, 7, 'eight']\n",
      "['ONE', 3, 5, 2, 6, 7]\n",
      "[3, 5, 2, 6, 7]\n",
      "[2, 3, 5, 6, 7]\n"
     ]
    }
   ],
   "source": [
    "print(numList)\n",
    "numList[0] = \"ONE\"\n",
    "print(numList)\n",
    "numList.append(7)\n",
    "numList.append('eight')\n",
    "print(numList)\n",
    "numList.pop()\n",
    "print(numList)\n",
    "numList.pop(0)\n",
    "print(numList)\n",
    "numList.sort()\n",
    "print(numList)\n"
   ]
  },
  {
   "cell_type": "code",
   "execution_count": 13,
   "id": "46b6d44b-78ce-4ec0-9a25-712fa4306074",
   "metadata": {},
   "outputs": [
    {
     "name": "stdout",
     "output_type": "stream",
     "text": [
      "[2, 3, 5, 6, 7]\n"
     ]
    }
   ],
   "source": [
    "numList.reverse()\n",
    "print(numList)"
   ]
  },
  {
   "cell_type": "code",
   "execution_count": 15,
   "id": "da334573-d8fc-4c91-aa8c-711376ccb088",
   "metadata": {},
   "outputs": [
    {
     "name": "stdout",
     "output_type": "stream",
     "text": [
      "[7, 6, 5, 3, 2]\n"
     ]
    }
   ],
   "source": [
    "numList.reverse()\n",
    "print(numList)"
   ]
  },
  {
   "cell_type": "code",
   "execution_count": null,
   "id": "b43aaf24-1c80-4e27-9ebe-7d062250bf40",
   "metadata": {},
   "outputs": [],
   "source": []
  }
 ],
 "metadata": {
  "kernelspec": {
   "display_name": "Python [conda env:base] *",
   "language": "python",
   "name": "conda-base-py"
  },
  "language_info": {
   "codemirror_mode": {
    "name": "ipython",
    "version": 3
   },
   "file_extension": ".py",
   "mimetype": "text/x-python",
   "name": "python",
   "nbconvert_exporter": "python",
   "pygments_lexer": "ipython3",
   "version": "3.12.7"
  }
 },
 "nbformat": 4,
 "nbformat_minor": 5
}
