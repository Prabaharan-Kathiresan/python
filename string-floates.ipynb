{
 "cells": [
  {
   "cell_type": "markdown",
   "id": "7347f022-caac-49c6-b556-9105ad0bb536",
   "metadata": {},
   "source": [
    "### Variable assignements"
   ]
  },
  {
   "cell_type": "code",
   "execution_count": 11,
   "id": "11f9182c-bb01-453f-9aa5-61c92dd67724",
   "metadata": {},
   "outputs": [
    {
     "data": {
      "text/plain": [
       "10"
      ]
     },
     "execution_count": 11,
     "metadata": {},
     "output_type": "execute_result"
    }
   ],
   "source": [
    "a"
   ]
  },
  {
   "cell_type": "code",
   "execution_count": 13,
   "id": "94cefe00-d217-4273-8591-f771720ce7cc",
   "metadata": {},
   "outputs": [
    {
     "data": {
      "text/plain": [
       "20"
      ]
     },
     "execution_count": 13,
     "metadata": {},
     "output_type": "execute_result"
    }
   ],
   "source": [
    "a + a\n"
   ]
  },
  {
   "cell_type": "code",
   "execution_count": 15,
   "id": "44430422-1647-4846-903e-c0de1904fb99",
   "metadata": {},
   "outputs": [
    {
     "data": {
      "text/plain": [
       "10"
      ]
     },
     "execution_count": 15,
     "metadata": {},
     "output_type": "execute_result"
    }
   ],
   "source": [
    "a"
   ]
  },
  {
   "cell_type": "code",
   "execution_count": 17,
   "id": "d9c49cdd-3df3-4200-9ad9-693aed5713b2",
   "metadata": {},
   "outputs": [],
   "source": [
    "a = a + a"
   ]
  },
  {
   "cell_type": "code",
   "execution_count": 19,
   "id": "861e4326-ce94-4931-b392-3d10357e1856",
   "metadata": {},
   "outputs": [
    {
     "data": {
      "text/plain": [
       "20"
      ]
     },
     "execution_count": 19,
     "metadata": {},
     "output_type": "execute_result"
    }
   ],
   "source": [
    "a\n"
   ]
  },
  {
   "cell_type": "code",
   "execution_count": 21,
   "id": "936175ed-7ce0-441e-a147-f8b7f3c280d1",
   "metadata": {},
   "outputs": [
    {
     "data": {
      "text/plain": [
       "int"
      ]
     },
     "execution_count": 21,
     "metadata": {},
     "output_type": "execute_result"
    }
   ],
   "source": [
    "type(a)\n"
   ]
  },
  {
   "cell_type": "code",
   "execution_count": 23,
   "id": "f5f18b9a-77d8-4cfc-befc-f07ba471629b",
   "metadata": {},
   "outputs": [],
   "source": [
    "a = 13.2"
   ]
  },
  {
   "cell_type": "code",
   "execution_count": 25,
   "id": "298c6505-b152-4c9d-adc2-80cc16f5a5bb",
   "metadata": {},
   "outputs": [
    {
     "data": {
      "text/plain": [
       "float"
      ]
     },
     "execution_count": 25,
     "metadata": {},
     "output_type": "execute_result"
    }
   ],
   "source": [
    "type(a)"
   ]
  },
  {
   "cell_type": "code",
   "execution_count": 31,
   "id": "2cd37f9a-c0b1-4d92-bcb2-218d162c82e9",
   "metadata": {},
   "outputs": [],
   "source": [
    "my_income = 100\n",
    "\n",
    "tax = 0.1\n",
    "\n",
    "my_tax = my_income * tax"
   ]
  },
  {
   "cell_type": "code",
   "execution_count": 33,
   "id": "dd908c7c-57d4-47cd-8f25-b634ce887af1",
   "metadata": {},
   "outputs": [
    {
     "data": {
      "text/plain": [
       "10.0"
      ]
     },
     "execution_count": 33,
     "metadata": {},
     "output_type": "execute_result"
    }
   ],
   "source": [
    "my_tax\n"
   ]
  },
  {
   "cell_type": "markdown",
   "id": "14ca9b19-58cd-4c62-a2c0-544b805b8bb2",
   "metadata": {},
   "source": [
    "### Strings"
   ]
  },
  {
   "cell_type": "code",
   "execution_count": 36,
   "id": "b1e1f28e-8b41-4338-b32f-5e51d5e2e3ac",
   "metadata": {},
   "outputs": [
    {
     "data": {
      "text/plain": [
       "'Hello'"
      ]
     },
     "execution_count": 36,
     "metadata": {},
     "output_type": "execute_result"
    }
   ],
   "source": [
    "\"Hello\""
   ]
  },
  {
   "cell_type": "code",
   "execution_count": 38,
   "id": "1d59e6f9-cc1e-4419-9bdf-eec45b5dba78",
   "metadata": {},
   "outputs": [
    {
     "data": {
      "text/plain": [
       "'world'"
      ]
     },
     "execution_count": 38,
     "metadata": {},
     "output_type": "execute_result"
    }
   ],
   "source": [
    "'world'"
   ]
  },
  {
   "cell_type": "code",
   "execution_count": 40,
   "id": "ee571d95-b1f0-4953-9794-f4e6e0bfede4",
   "metadata": {},
   "outputs": [
    {
     "data": {
      "text/plain": [
       "\"I'm going on run\""
      ]
     },
     "execution_count": 40,
     "metadata": {},
     "output_type": "execute_result"
    }
   ],
   "source": [
    "\"I'm going on run\""
   ]
  },
  {
   "cell_type": "code",
   "execution_count": 42,
   "id": "43c180a6-b91c-400a-aa9a-5a88f3c9cd87",
   "metadata": {},
   "outputs": [
    {
     "data": {
      "text/plain": [
       "'hello world two'"
      ]
     },
     "execution_count": 42,
     "metadata": {},
     "output_type": "execute_result"
    }
   ],
   "source": [
    "\"Hello world one\"\n",
    "\"hello world two\"\n"
   ]
  },
  {
   "cell_type": "code",
   "execution_count": 44,
   "id": "2079e0c4-df95-405e-9d2a-17b57b52fbf0",
   "metadata": {},
   "outputs": [
    {
     "name": "stdout",
     "output_type": "stream",
     "text": [
      "hello world one\n",
      "hello world two\n"
     ]
    }
   ],
   "source": [
    "print(\"hello world one\")\n",
    "print(\"hello world two\")"
   ]
  },
  {
   "cell_type": "code",
   "execution_count": 46,
   "id": "28d67d4d-b9c9-4714-91b4-215ee56647d3",
   "metadata": {},
   "outputs": [
    {
     "name": "stdout",
     "output_type": "stream",
     "text": [
      "hello\n",
      "world\n",
      "hello\tworld\n"
     ]
    }
   ],
   "source": [
    "print(\"hello\\nworld\")\n",
    "print(\"hello\\tworld\")"
   ]
  },
  {
   "cell_type": "code",
   "execution_count": 48,
   "id": "d68b7f70-b93b-4169-b3c6-2d4238927fe6",
   "metadata": {},
   "outputs": [
    {
     "data": {
      "text/plain": [
       "4"
      ]
     },
     "execution_count": 48,
     "metadata": {},
     "output_type": "execute_result"
    }
   ],
   "source": [
    "len(\"I am\")"
   ]
  },
  {
   "cell_type": "markdown",
   "id": "89ac41c0-463d-4f12-9989-9a7cc64d521c",
   "metadata": {},
   "source": [
    "### String indexing"
   ]
  },
  {
   "cell_type": "code",
   "execution_count": 51,
   "id": "b6e36216-f6c5-4e4e-82d3-47535a1617ef",
   "metadata": {},
   "outputs": [],
   "source": [
    "myString = \"hello world\""
   ]
  },
  {
   "cell_type": "code",
   "execution_count": 53,
   "id": "659ff57b-3124-49ac-a503-03455a159f99",
   "metadata": {},
   "outputs": [
    {
     "data": {
      "text/plain": [
       "'h'"
      ]
     },
     "execution_count": 53,
     "metadata": {},
     "output_type": "execute_result"
    }
   ],
   "source": [
    "myString[0]"
   ]
  },
  {
   "cell_type": "code",
   "execution_count": 55,
   "id": "d6b493f0-d123-4aca-8ddb-9357fafa80cd",
   "metadata": {},
   "outputs": [
    {
     "data": {
      "text/plain": [
       "'d'"
      ]
     },
     "execution_count": 55,
     "metadata": {},
     "output_type": "execute_result"
    }
   ],
   "source": [
    "myString[-1]"
   ]
  },
  {
   "cell_type": "code",
   "execution_count": 57,
   "id": "7593f13f-55a3-4678-a342-3ed4cbc1d87a",
   "metadata": {},
   "outputs": [
    {
     "data": {
      "text/plain": [
       "' '"
      ]
     },
     "execution_count": 57,
     "metadata": {},
     "output_type": "execute_result"
    }
   ],
   "source": [
    "myString[5]"
   ]
  },
  {
   "cell_type": "markdown",
   "id": "71e98f18-5084-47ab-b67c-a64f9244f45b",
   "metadata": {},
   "source": [
    "### String slicing"
   ]
  },
  {
   "cell_type": "code",
   "execution_count": 60,
   "id": "6c8dc3f1-af30-4236-8b80-fe7bfeadae4d",
   "metadata": {},
   "outputs": [],
   "source": [
    "myString = \"abcdefghi\""
   ]
  },
  {
   "cell_type": "code",
   "execution_count": 78,
   "id": "d4f0c5a5-c8aa-42b7-8216-402d2f7716ad",
   "metadata": {},
   "outputs": [
    {
     "name": "stdout",
     "output_type": "stream",
     "text": [
      "cdefghi\n",
      "ab\n",
      "cde\n",
      "abcdefghi\n",
      "acegi\n",
      "bd\n",
      "ihgfedcba\n"
     ]
    }
   ],
   "source": [
    "print(myString[2:])\n",
    "print(myString[:2])\n",
    "print(myString[2:5])\n",
    "print(myString[::])\n",
    "print(myString[::2])\n",
    "print(myString[1:5:2])\n",
    "print(myString[::-1])"
   ]
  },
  {
   "cell_type": "markdown",
   "id": "a896779c-633b-489b-8bca-90a56779bdea",
   "metadata": {},
   "source": [
    "### String immutability"
   ]
  },
  {
   "cell_type": "code",
   "execution_count": 82,
   "id": "f00e679c-6037-4fb4-9f13-d97a56baf12a",
   "metadata": {},
   "outputs": [
    {
     "name": "stdout",
     "output_type": "stream",
     "text": [
      "pam\n"
     ]
    }
   ],
   "source": [
    "name = \"sam\"\n",
    "print('p'+name[1:])"
   ]
  },
  {
   "cell_type": "code",
   "execution_count": 84,
   "id": "710176a3-0731-476e-b254-994989546047",
   "metadata": {},
   "outputs": [
    {
     "name": "stdout",
     "output_type": "stream",
     "text": [
      "zzzzzzzzzz\n"
     ]
    }
   ],
   "source": [
    "sleeping = \"z\"\n",
    "print(sleeping * 10)"
   ]
  },
  {
   "cell_type": "code",
   "execution_count": 86,
   "id": "33b6a4c0-c8b1-4594-bd0f-25922fa66ff6",
   "metadata": {},
   "outputs": [
    {
     "ename": "TypeError",
     "evalue": "can only concatenate str (not \"int\") to str",
     "output_type": "error",
     "traceback": [
      "\u001b[1;31m---------------------------------------------------------------------------\u001b[0m",
      "\u001b[1;31mTypeError\u001b[0m                                 Traceback (most recent call last)",
      "Cell \u001b[1;32mIn[86], line 1\u001b[0m\n\u001b[1;32m----> 1\u001b[0m \u001b[38;5;28mprint\u001b[39m(\u001b[38;5;124m'\u001b[39m\u001b[38;5;124m1\u001b[39m\u001b[38;5;124m'\u001b[39m\u001b[38;5;241m+\u001b[39m\u001b[38;5;241m2\u001b[39m)\n",
      "\u001b[1;31mTypeError\u001b[0m: can only concatenate str (not \"int\") to str"
     ]
    }
   ],
   "source": [
    "print('1'+2)"
   ]
  },
  {
   "cell_type": "code",
   "execution_count": 88,
   "id": "589c9750-24a7-4b29-8f8b-9b89a70921a7",
   "metadata": {},
   "outputs": [
    {
     "name": "stdout",
     "output_type": "stream",
     "text": [
      "12\n"
     ]
    }
   ],
   "source": [
    "print('1'+'2')"
   ]
  },
  {
   "cell_type": "markdown",
   "id": "1d89dafd-165b-4069-a2fe-a1fa3a00e32b",
   "metadata": {},
   "source": [
    "### String methods"
   ]
  },
  {
   "cell_type": "code",
   "execution_count": 97,
   "id": "51912d7a-e545-4aee-83eb-a70a1eeeeb0f",
   "metadata": {},
   "outputs": [
    {
     "name": "stdout",
     "output_type": "stream",
     "text": [
      "hello world\n",
      "HELLO WORLD\n",
      "hello world\n",
      "HELLO WORLD\n",
      "['hello', 'world']\n",
      "['he', '', 'o wor', 'd']\n"
     ]
    }
   ],
   "source": [
    "x=\"hello world\"\n",
    "print(x)\n",
    "print(x.upper())\n",
    "print(x)\n",
    "y=x.upper();\n",
    "print(y)\n",
    "print(x.split()) #split based on space\n",
    "print(x.split('l')) #split based on char 'l'\n"
   ]
  },
  {
   "cell_type": "markdown",
   "id": "dea07bd0-40e7-4cd5-80a8-bb4ea0407673",
   "metadata": {},
   "source": [
    "### String formatting"
   ]
  },
  {
   "cell_type": "code",
   "execution_count": 121,
   "id": "c2618876-b690-49bf-9247-727ab3fd57d3",
   "metadata": {},
   "outputs": [
    {
     "name": "stdout",
     "output_type": "stream",
     "text": [
      "This is a String INSERTED\n",
      "The HI HELLO WELCOM \n",
      "The WELCOM HI WELCOM \n",
      "The HI HI HI \n",
      "The second first third\n",
      "His name is SAM\n",
      "his name is SAM\n",
      "SAM is 3 years old\n"
     ]
    }
   ],
   "source": [
    "print(\"This is a String {}\".format(\"INSERTED\"))\n",
    "print(\"The {} {} {} \".format(\"HI\",\"HELLO\",\"WELCOM\"))\n",
    "print(\"The {2} {0} {2} \".format(\"HI\",\"HELLO\",\"WELCOM\")) \n",
    "print(\"The {0} {0} {0} \".format(\"HI\",\"HELLO\",\"WELCOM\")) \n",
    "print(\"The {s} {f} {t}\".format(f=\"first\",s=\"second\",t=\"third\"))\n",
    "name = \"SAM\"\n",
    "print(\"His name is {}\".format(name))\n",
    "print(f\"his name is {name}\")\n",
    "age =3 \n",
    "print(f\"{name} is {age} years old\")"
   ]
  },
  {
   "cell_type": "markdown",
   "id": "dc2642af-ff2c-4768-bdde-e95968907fb3",
   "metadata": {},
   "source": [
    "### float formatting"
   ]
  },
  {
   "cell_type": "code",
   "execution_count": 117,
   "id": "d8fbe176-eefc-4ea4-9bb0-6d53ef9f9d8b",
   "metadata": {},
   "outputs": [
    {
     "name": "stdout",
     "output_type": "stream",
     "text": [
      "12345.123456789\n",
      "rounded 2 decimal 12345.12\n",
      "rounded 6 decimal 12345.123457\n"
     ]
    }
   ],
   "source": [
    "x=12345.123456789\n",
    "print(x)\n",
    "print(\"rounded 2 decimal {xx:1.2f}\".format(xx=x))\n",
    "print(\"rounded 6 decimal {xx:1.6f}\".format(xx=x))"
   ]
  },
  {
   "cell_type": "code",
   "execution_count": null,
   "id": "7eec1399-3b52-43ab-8ad1-417e442dbe10",
   "metadata": {},
   "outputs": [],
   "source": []
  }
 ],
 "metadata": {
  "kernelspec": {
   "display_name": "Python [conda env:base] *",
   "language": "python",
   "name": "conda-base-py"
  },
  "language_info": {
   "codemirror_mode": {
    "name": "ipython",
    "version": 3
   },
   "file_extension": ".py",
   "mimetype": "text/x-python",
   "name": "python",
   "nbconvert_exporter": "python",
   "pygments_lexer": "ipython3",
   "version": "3.12.7"
  }
 },
 "nbformat": 4,
 "nbformat_minor": 5
}
