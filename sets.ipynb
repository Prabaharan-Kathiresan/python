{
 "cells": [
  {
   "cell_type": "markdown",
   "id": "50ee0e97-d7ce-46ce-a48d-8cf2daf0844a",
   "metadata": {},
   "source": [
    "### tuples\n"
   ]
  },
  {
   "cell_type": "code",
   "execution_count": 4,
   "id": "1e1d1e96-3260-4c7c-bdaf-02eae775811a",
   "metadata": {},
   "outputs": [
    {
     "data": {
      "text/plain": [
       "tuple"
      ]
     },
     "execution_count": 4,
     "metadata": {},
     "output_type": "execute_result"
    }
   ],
   "source": [
    "t = (1,2,3)\n",
    "type(t)"
   ]
  },
  {
   "cell_type": "markdown",
   "id": "09adbc35-a6fe-42cf-96cb-fdac0000c7d6",
   "metadata": {},
   "source": [
    "### Sets"
   ]
  },
  {
   "cell_type": "code",
   "execution_count": 9,
   "id": "ad6f4b32-2750-4bbf-8744-e3979fa7b848",
   "metadata": {},
   "outputs": [
    {
     "name": "stdout",
     "output_type": "stream",
     "text": [
      "set()\n",
      "{1}\n",
      "{1, 2}\n",
      "{1, 2}\n"
     ]
    }
   ],
   "source": [
    "myset = set()\n",
    "print(myset)\n",
    "myset.add(1)\n",
    "print(myset)\n",
    "myset.add(2)\n",
    "print(myset)\n",
    "myset.add(2)\n",
    "print(myset)\n"
   ]
  },
  {
   "cell_type": "code",
   "execution_count": 11,
   "id": "4049844c-b7ae-4297-ae8d-1760f5132c7f",
   "metadata": {},
   "outputs": [
    {
     "name": "stdout",
     "output_type": "stream",
     "text": [
      "{1, 2}\n"
     ]
    }
   ],
   "source": [
    "myList = [1,1,1,2,2,2]\n",
    "myset2 = set(myList)\n",
    "print(myset2)"
   ]
  },
  {
   "cell_type": "markdown",
   "id": "481545f7-6d78-4afa-8429-e744f4c2884a",
   "metadata": {},
   "source": [
    "### boolean & none"
   ]
  },
  {
   "cell_type": "code",
   "execution_count": 15,
   "id": "dc84ca4a-ad40-4f90-93b3-56a55fab7bb9",
   "metadata": {},
   "outputs": [],
   "source": [
    "b = None"
   ]
  },
  {
   "cell_type": "code",
   "execution_count": 17,
   "id": "26fbc795-0652-4b76-aec4-e15766483c98",
   "metadata": {},
   "outputs": [
    {
     "data": {
      "text/plain": [
       "NoneType"
      ]
     },
     "execution_count": 17,
     "metadata": {},
     "output_type": "execute_result"
    }
   ],
   "source": [
    "type(b)"
   ]
  },
  {
   "cell_type": "code",
   "execution_count": 19,
   "id": "1ae72565-198f-4c28-b83e-f7e43ae592b2",
   "metadata": {},
   "outputs": [
    {
     "name": "stdout",
     "output_type": "stream",
     "text": [
      "True\n",
      "False\n"
     ]
    }
   ],
   "source": [
    "b = True\n",
    "print(b)\n",
    "b= False\n",
    "print(b)"
   ]
  },
  {
   "cell_type": "code",
   "execution_count": null,
   "id": "8005008b-f101-4945-8716-0b212ce788b1",
   "metadata": {},
   "outputs": [],
   "source": []
  }
 ],
 "metadata": {
  "kernelspec": {
   "display_name": "Python [conda env:base] *",
   "language": "python",
   "name": "conda-base-py"
  },
  "language_info": {
   "codemirror_mode": {
    "name": "ipython",
    "version": 3
   },
   "file_extension": ".py",
   "mimetype": "text/x-python",
   "name": "python",
   "nbconvert_exporter": "python",
   "pygments_lexer": "ipython3",
   "version": "3.12.7"
  }
 },
 "nbformat": 4,
 "nbformat_minor": 5
}
