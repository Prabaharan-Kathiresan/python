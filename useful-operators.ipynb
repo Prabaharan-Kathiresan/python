{
 "cells": [
  {
   "cell_type": "code",
   "execution_count": 37,
   "id": "ac6f4f1a-8994-4ca6-8285-444775554220",
   "metadata": {},
   "outputs": [
    {
     "name": "stdout",
     "output_type": "stream",
     "text": [
      "0\n",
      "2\n",
      "4\n",
      "6\n",
      "8\n"
     ]
    }
   ],
   "source": [
    "#range\n",
    "mylist = list(range(0,10,2))\n",
    "for num in mylist:\n",
    "    print(num)"
   ]
  },
  {
   "cell_type": "code",
   "execution_count": 43,
   "id": "10b8bc1b-3dd0-4fc7-adee-39c428decd07",
   "metadata": {},
   "outputs": [
    {
     "name": "stdout",
     "output_type": "stream",
     "text": [
      "0\n",
      "h\n",
      "1\n",
      "e\n",
      "2\n",
      "l\n",
      "3\n",
      "l\n",
      "4\n",
      "o\n",
      "(0, 'h')\n",
      "(1, 'e')\n",
      "(2, 'l')\n",
      "(3, 'l')\n",
      "(4, 'o')\n"
     ]
    }
   ],
   "source": [
    "# enumerate\n",
    "word = \"hello\"\n",
    "for index,letter in enumerate(word):\n",
    "    print(index)\n",
    "    print(letter)\n",
    "\n",
    "for item in enumerate(word):\n",
    "    print(item)"
   ]
  },
  {
   "cell_type": "code",
   "execution_count": 49,
   "id": "d07d4b9a-6eee-4148-b383-a343eacc6d56",
   "metadata": {},
   "outputs": [
    {
     "name": "stdout",
     "output_type": "stream",
     "text": [
      "(0, 100, 1000)\n",
      "(1, 101, 1001)\n",
      "(2, 102, 1002)\n"
     ]
    }
   ],
   "source": [
    "#zip\n",
    "mylist = list(range(0,3))\n",
    "mylist2 = list(range(100,105))\n",
    "mylist3 = list(range(1000,1003))\n",
    "for item in zip(mylist,mylist2,mylist3):\n",
    "    print(item)"
   ]
  },
  {
   "cell_type": "code",
   "execution_count": 61,
   "id": "2c565653-d2af-4b00-9491-40d7b6f255bd",
   "metadata": {},
   "outputs": [
    {
     "name": "stdout",
     "output_type": "stream",
     "text": [
      "2 is in list\n",
      "k1 is in dict\n",
      "1 is in dict\n"
     ]
    }
   ],
   "source": [
    "#in operator\n",
    "mylist = list(range(0,3))\n",
    "if 2 in mylist:\n",
    "    print(\"2 is in list\")\n",
    "\n",
    "dict = {\"k1\": 1, \"k2\": 2}\n",
    "if \"k1\" in dict:\n",
    "    print(\"k1 is in dict\")\n",
    "\n",
    "if 1 in dict.values():\n",
    "    print(\"1 is in dict\")\n",
    "    "
   ]
  },
  {
   "cell_type": "code",
   "execution_count": 63,
   "id": "b3da6346-768e-48cf-82a1-d5cf8e28386e",
   "metadata": {},
   "outputs": [
    {
     "name": "stdin",
     "output_type": "stream",
     "text": [
      "Enter a number 1/\n"
     ]
    },
    {
     "data": {
      "text/plain": [
       "'1/'"
      ]
     },
     "execution_count": 63,
     "metadata": {},
     "output_type": "execute_result"
    }
   ],
   "source": [
    "input(\"Enter a number\")"
   ]
  },
  {
   "cell_type": "code",
   "execution_count": 65,
   "id": "cda18954-27fe-4873-9072-3ad17f302c8e",
   "metadata": {},
   "outputs": [
    {
     "name": "stdin",
     "output_type": "stream",
     "text": [
      "Enter a number 5\n"
     ]
    },
    {
     "name": "stdout",
     "output_type": "stream",
     "text": [
      "5\n"
     ]
    }
   ],
   "source": [
    "x = input(\"Enter a number\")\n",
    "print(x)"
   ]
  },
  {
   "cell_type": "markdown",
   "id": "71c076cc-1b53-45e0-bf3d-c735e205f4f3",
   "metadata": {},
   "source": [
    "### List comprehensions"
   ]
  },
  {
   "cell_type": "code",
   "execution_count": 68,
   "id": "ca9d4961-541e-4108-b21e-237eb3342973",
   "metadata": {},
   "outputs": [
    {
     "name": "stdout",
     "output_type": "stream",
     "text": [
      "['h', 'e', 'l', 'l', 'o']\n"
     ]
    }
   ],
   "source": [
    "mystring = \"hello\"\n",
    "mylist = []\n",
    "for letter in mystring:\n",
    "    mylist.append(letter)\n",
    "\n",
    "print(mylist)"
   ]
  },
  {
   "cell_type": "code",
   "execution_count": 72,
   "id": "6dece053-5057-445d-ae49-1be5e5e88a05",
   "metadata": {},
   "outputs": [
    {
     "name": "stdout",
     "output_type": "stream",
     "text": [
      "['h', 'e', 'l', 'l', 'o']\n"
     ]
    }
   ],
   "source": [
    "mystring = \"hello\"\n",
    "mylist = [ letter for letter in mystring]\n",
    "print(mylist)"
   ]
  },
  {
   "cell_type": "code",
   "execution_count": 78,
   "id": "5b03c38c-8857-46e0-8f3c-d898216cc51c",
   "metadata": {},
   "outputs": [
    {
     "name": "stdout",
     "output_type": "stream",
     "text": [
      "[0, 1, 4, 9, 16, 25, 36, 49, 64, 81, 100, 121, 144, 169, 196, 225, 256, 289, 324, 361]\n",
      "[0, 1, 4, 9, 16, 25, 36, 49, 64, 81, 100, 121, 144, 169, 196, 225, 256, 289, 324, 361]\n"
     ]
    }
   ],
   "source": [
    "mylist2 = [ num**2 for num in range(0,20)]\n",
    "print(mylist2)\n",
    "\n",
    "mylist3 = []\n",
    "for num in range(0,20):\n",
    "    mylist3.append(num**2)\n",
    "print(mylist3)"
   ]
  },
  {
   "cell_type": "code",
   "execution_count": 82,
   "id": "075a983b-918b-46d2-92dd-4c05d26cc5a8",
   "metadata": {},
   "outputs": [
    {
     "name": "stdout",
     "output_type": "stream",
     "text": [
      "[0, 2, 4, 6, 8, 10, 12, 14, 16, 18]\n"
     ]
    }
   ],
   "source": [
    "mylist4 = [ x for x in range(0,20) if x%2==0 ]\n",
    "print(mylist4)"
   ]
  },
  {
   "cell_type": "markdown",
   "id": "8e6e6aa9-e344-4907-8bb0-99cd97b5222c",
   "metadata": {},
   "source": [
    "### help"
   ]
  },
  {
   "cell_type": "code",
   "execution_count": null,
   "id": "d00eb5d0-af19-45d4-961a-9ba7a459afb9",
   "metadata": {},
   "outputs": [],
   "source": [
    "# tab will give list all the methods availale\n",
    "# list.insert shift+tab will give you the documentation about the method, applies only in the editor\n",
    "# help(list.insert) will give the same method documentation\n",
    "# official documentation"
   ]
  }
 ],
 "metadata": {
  "kernelspec": {
   "display_name": "Python [conda env:base] *",
   "language": "python",
   "name": "conda-base-py"
  },
  "language_info": {
   "codemirror_mode": {
    "name": "ipython",
    "version": 3
   },
   "file_extension": ".py",
   "mimetype": "text/x-python",
   "name": "python",
   "nbconvert_exporter": "python",
   "pygments_lexer": "ipython3",
   "version": "3.12.7"
  }
 },
 "nbformat": 4,
 "nbformat_minor": 5
}
