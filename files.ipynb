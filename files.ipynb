{
 "cells": [
  {
   "cell_type": "code",
   "execution_count": 37,
   "id": "fef0ee3c-4528-4f1b-8ea4-347ef76e089c",
   "metadata": {},
   "outputs": [
    {
     "name": "stdout",
     "output_type": "stream",
     "text": [
      "Overwriting myfile.txt\n"
     ]
    }
   ],
   "source": [
    "%%writefile myfile.txt\n",
    "Hello this is a text file\n",
    "this is the second line\n",
    "this is the third line\n"
   ]
  },
  {
   "cell_type": "code",
   "execution_count": 39,
   "id": "9115cebf-3d22-422c-847f-edf200b57f50",
   "metadata": {},
   "outputs": [
    {
     "data": {
      "text/plain": [
       "'Hello this is a text file\\nthis is the second line\\nthis is the third line\\n'"
      ]
     },
     "execution_count": 39,
     "metadata": {},
     "output_type": "execute_result"
    }
   ],
   "source": [
    "\n",
    "contents = open('myfile.txt')\n",
    "contents.read()\n"
   ]
  },
  {
   "cell_type": "code",
   "execution_count": 41,
   "id": "3db8932e-187c-4704-916d-203bcdcacc33",
   "metadata": {},
   "outputs": [
    {
     "name": "stdout",
     "output_type": "stream",
     "text": [
      "Hello this is a text file\n",
      "this is the second line\n",
      "this is the third line\n",
      "\n",
      "['Hello this is a text file\\n', 'this is the second line\\n', 'this is the third line\\n']\n"
     ]
    }
   ],
   "source": [
    "contents.seek(0)\n",
    "print(contents.read())\n",
    "contents.seek(0)\n",
    "print(contents.readlines())\n",
    "contents.close()"
   ]
  },
  {
   "cell_type": "code",
   "execution_count": 19,
   "id": "e8fb5151-3304-4b86-84fe-945c2c3926ba",
   "metadata": {},
   "outputs": [
    {
     "data": {
      "text/plain": [
       "'C:\\\\Users\\\\praba\\\\Documents\\\\python'"
      ]
     },
     "execution_count": 19,
     "metadata": {},
     "output_type": "execute_result"
    }
   ],
   "source": [
    "pwd\n"
   ]
  },
  {
   "cell_type": "code",
   "execution_count": 23,
   "id": "4a108c75-1ad3-4de5-9f6c-2833543e06ba",
   "metadata": {},
   "outputs": [],
   "source": [
    "with open('myfile.txt') as newfile:\n",
    "    contents1 = newfile.read()"
   ]
  },
  {
   "cell_type": "code",
   "execution_count": 27,
   "id": "eff0c9ac-d066-4eb7-b17c-5ca36aff29f0",
   "metadata": {},
   "outputs": [
    {
     "name": "stdout",
     "output_type": "stream",
     "text": [
      "Hello this is a text file\n",
      "this is the second line\n",
      "this is the third line\n",
      "\n"
     ]
    }
   ],
   "source": [
    "print(contents1)"
   ]
  },
  {
   "cell_type": "code",
   "execution_count": 29,
   "id": "8c43b9b6-f52e-4f4d-8814-0904238256c1",
   "metadata": {},
   "outputs": [
    {
     "ename": "UnsupportedOperation",
     "evalue": "not readable",
     "output_type": "error",
     "traceback": [
      "\u001b[1;31m---------------------------------------------------------------------------\u001b[0m",
      "\u001b[1;31mUnsupportedOperation\u001b[0m                      Traceback (most recent call last)",
      "Cell \u001b[1;32mIn[29], line 2\u001b[0m\n\u001b[0;32m      1\u001b[0m \u001b[38;5;28;01mwith\u001b[39;00m \u001b[38;5;28mopen\u001b[39m(\u001b[38;5;124m'\u001b[39m\u001b[38;5;124mmyfile.txt\u001b[39m\u001b[38;5;124m'\u001b[39m,mode\u001b[38;5;241m=\u001b[39m\u001b[38;5;124m'\u001b[39m\u001b[38;5;124mw\u001b[39m\u001b[38;5;124m'\u001b[39m) \u001b[38;5;28;01mas\u001b[39;00m newfile:\n\u001b[1;32m----> 2\u001b[0m     contents2 \u001b[38;5;241m=\u001b[39m newfile\u001b[38;5;241m.\u001b[39mread()\n",
      "\u001b[1;31mUnsupportedOperation\u001b[0m: not readable"
     ]
    }
   ],
   "source": [
    "with open('myfile.txt',mode='w') as newfile:\n",
    "    contents2 = newfile.read()"
   ]
  },
  {
   "cell_type": "code",
   "execution_count": 43,
   "id": "46ae3193-8eeb-479b-9ae1-358988f3f46f",
   "metadata": {},
   "outputs": [],
   "source": [
    "with open('myfile.txt',mode='a') as newfile:\n",
    "    newfile.write(\"\\n this is the fourth line\")\n"
   ]
  },
  {
   "cell_type": "code",
   "execution_count": 45,
   "id": "b4b14221-66eb-4997-aced-877a2b32cce8",
   "metadata": {},
   "outputs": [
    {
     "name": "stdout",
     "output_type": "stream",
     "text": [
      "Hello this is a text file\n",
      "this is the second line\n",
      "this is the third line\n",
      "\n",
      " this is the fourth line\n"
     ]
    }
   ],
   "source": [
    "with open('myfile.txt',mode=\"r\") as newfile:\n",
    "    print(newfile.read())"
   ]
  },
  {
   "cell_type": "code",
   "execution_count": null,
   "id": "80d465c8-82e0-4aae-877a-eeffca565874",
   "metadata": {},
   "outputs": [],
   "source": []
  }
 ],
 "metadata": {
  "kernelspec": {
   "display_name": "Python [conda env:base] *",
   "language": "python",
   "name": "conda-base-py"
  },
  "language_info": {
   "codemirror_mode": {
    "name": "ipython",
    "version": 3
   },
   "file_extension": ".py",
   "mimetype": "text/x-python",
   "name": "python",
   "nbconvert_exporter": "python",
   "pygments_lexer": "ipython3",
   "version": "3.12.7"
  }
 },
 "nbformat": 4,
 "nbformat_minor": 5
}
