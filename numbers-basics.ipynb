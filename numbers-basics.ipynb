{
 "cells": [
  {
   "cell_type": "code",
   "execution_count": 1,
   "id": "7d0c337e-bc7b-4c0e-83b4-9c0b09b56e4e",
   "metadata": {},
   "outputs": [
    {
     "data": {
      "text/plain": [
       "4"
      ]
     },
     "execution_count": 1,
     "metadata": {},
     "output_type": "execute_result"
    }
   ],
   "source": [
    "2+2"
   ]
  },
  {
   "cell_type": "code",
   "execution_count": 10,
   "id": "ad4e4b9b-b72e-408a-bc2e-cb94ad2dcacd",
   "metadata": {},
   "outputs": [
    {
     "data": {
      "text/plain": [
       "1"
      ]
     },
     "execution_count": 10,
     "metadata": {},
     "output_type": "execute_result"
    }
   ],
   "source": [
    "2-1"
   ]
  },
  {
   "cell_type": "markdown",
   "id": "9dc5c69f-83d7-4d47-9129-12507206e36b",
   "metadata": {},
   "source": [
    "### Division will return the floating point number, modulo operator return the remaining\n"
   ]
  },
  {
   "cell_type": "code",
   "execution_count": 21,
   "id": "1ee474ae-833a-4f45-a83f-460ef8c6157e",
   "metadata": {},
   "outputs": [
    {
     "data": {
      "text/plain": [
       "1.5"
      ]
     },
     "execution_count": 21,
     "metadata": {},
     "output_type": "execute_result"
    }
   ],
   "source": [
    "3/2"
   ]
  },
  {
   "cell_type": "code",
   "execution_count": 23,
   "id": "419b3cab-0580-497c-896b-8bfe6695759d",
   "metadata": {},
   "outputs": [
    {
     "data": {
      "text/plain": [
       "1"
      ]
     },
     "execution_count": 23,
     "metadata": {},
     "output_type": "execute_result"
    }
   ],
   "source": [
    "3%2"
   ]
  },
  {
   "cell_type": "markdown",
   "id": "fa13c49c-3e68-42b1-9c86-1cb6ee529962",
   "metadata": {},
   "source": [
    "### Double asterics will do power of"
   ]
  },
  {
   "cell_type": "code",
   "execution_count": 19,
   "id": "603552c3-c724-410b-8405-73fcd46b620d",
   "metadata": {},
   "outputs": [
    {
     "data": {
      "text/plain": [
       "6"
      ]
     },
     "execution_count": 19,
     "metadata": {},
     "output_type": "execute_result"
    }
   ],
   "source": [
    "3*2 "
   ]
  },
  {
   "cell_type": "code",
   "execution_count": 17,
   "id": "441caf0b-db7a-486e-a556-d719df6130b4",
   "metadata": {},
   "outputs": [
    {
     "data": {
      "text/plain": [
       "9"
      ]
     },
     "execution_count": 17,
     "metadata": {},
     "output_type": "execute_result"
    }
   ],
   "source": [
    "3**2"
   ]
  },
  {
   "cell_type": "markdown",
   "id": "b899a69d-dd10-491b-a207-5b284c17fe68",
   "metadata": {},
   "source": [
    "### Arithmatic group can be done through parenthesis\n"
   ]
  },
  {
   "cell_type": "code",
   "execution_count": 30,
   "id": "57e6efb0-441d-4cf0-ba8f-9296444e0ff4",
   "metadata": {},
   "outputs": [
    {
     "data": {
      "text/plain": [
       "105"
      ]
     },
     "execution_count": 30,
     "metadata": {},
     "output_type": "execute_result"
    }
   ],
   "source": [
    "2 + 10 * 10 + 3"
   ]
  },
  {
   "cell_type": "code",
   "execution_count": 32,
   "id": "984951b2-7d72-4847-932c-cda303e09544",
   "metadata": {},
   "outputs": [
    {
     "data": {
      "text/plain": [
       "156"
      ]
     },
     "execution_count": 32,
     "metadata": {},
     "output_type": "execute_result"
    }
   ],
   "source": [
    "(2+10) * (10+3)"
   ]
  },
  {
   "cell_type": "code",
   "execution_count": null,
   "id": "98a27c04-99a4-465a-83da-90007bd078d6",
   "metadata": {},
   "outputs": [],
   "source": []
  }
 ],
 "metadata": {
  "kernelspec": {
   "display_name": "Python [conda env:base] *",
   "language": "python",
   "name": "conda-base-py"
  },
  "language_info": {
   "codemirror_mode": {
    "name": "ipython",
    "version": 3
   },
   "file_extension": ".py",
   "mimetype": "text/x-python",
   "name": "python",
   "nbconvert_exporter": "python",
   "pygments_lexer": "ipython3",
   "version": "3.12.7"
  }
 },
 "nbformat": 4,
 "nbformat_minor": 5
}
